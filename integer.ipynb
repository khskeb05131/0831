{
 "cells": [
  {
   "cell_type": "code",
   "execution_count": 1,
   "metadata": {},
   "outputs": [
    {
     "name": "stdout",
     "output_type": "stream",
     "text": [
      "1\n"
     ]
    }
   ],
   "source": [
    "print(1)"
   ]
  },
  {
   "cell_type": "code",
   "execution_count": 4,
   "metadata": {},
   "outputs": [
    {
     "name": "stdout",
     "output_type": "stream",
     "text": [
      "9\n"
     ]
    }
   ],
   "source": [
    "print(\"{0}\".format(x))"
   ]
  },
  {
   "cell_type": "code",
   "execution_count": 5,
   "metadata": {},
   "outputs": [],
   "source": [
    "x=9"
   ]
  },
  {
   "cell_type": "code",
   "execution_count": 6,
   "metadata": {},
   "outputs": [
    {
     "name": "stdout",
     "output_type": "stream",
     "text": [
      "81\n"
     ]
    }
   ],
   "source": [
    "print(\"{}\".format(3**4))"
   ]
  },
  {
   "cell_type": "code",
   "execution_count": 7,
   "metadata": {},
   "outputs": [
    {
     "name": "stdout",
     "output_type": "stream",
     "text": [
      "4.5\n"
     ]
    }
   ],
   "source": [
    "print(\"{}\".format(int(9.3)/int(2.7)))"
   ]
  },
  {
   "cell_type": "code",
   "execution_count": 21,
   "metadata": {},
   "outputs": [
    {
     "name": "stdout",
     "output_type": "stream",
     "text": [
      "3.444\n",
      "12.0\n",
      "1.143\n",
      "2.6667\n"
     ]
    }
   ],
   "source": [
    "print(\"{0:.3f}\".format(9.3/2.7))\n",
    "y = 2.5 * 4.8\n",
    "print(\"{:.1f}\".format(y))\n",
    "r = 8/float(7)\n",
    "print(\"{:.3f}\".format(r))\n",
    "print(\"{0:.4f}\".format(8.0/3))"
   ]
  },
  {
   "cell_type": "code",
   "execution_count": 24,
   "metadata": {},
   "outputs": [
    {
     "name": "stdout",
     "output_type": "stream",
     "text": [
      "I'm enjoying learning Prthon\n",
      "This is a loing string. Without the backslashit would run off of the page on the right in the text editor and bedifficult in read and edit. By using the backslash you van split the longstring into smaller strings on seperate lines so that the shole string is easyto view in the editor.\n"
     ]
    }
   ],
   "source": [
    "print(\"{:s}\".format('I\\'m enjoying learning Prthon'))\n",
    "print (\"{0:s}\".format(\"This is a loing string. Without the backslash\\\n",
    "it would run off of the page on the right in the text editor and be\\\n",
    "difficult in read and edit. By using the backslash you van split the long\\\n",
    "string into smaller strings on seperate lines so that the shole string is easy\\\n",
    "to view in the editor.\"))"
   ]
  },
  {
   "cell_type": "code",
   "execution_count": 28,
   "metadata": {},
   "outputs": [
    {
     "name": "stdout",
     "output_type": "stream",
     "text": [
      "You can use triple single quotes\n",
      "                     for multi-line comment strings\n"
     ]
    }
   ],
   "source": [
    "print(\"{0:s}\".format(\"\"\"You can use triple single quotes\n",
    "                     for multi-line comment strings\"\"\"))"
   ]
  }
 ],
 "metadata": {
  "kernelspec": {
   "display_name": "Python 3",
   "language": "python",
   "name": "python3"
  },
  "language_info": {
   "codemirror_mode": {
    "name": "ipython",
    "version": 3
   },
   "file_extension": ".py",
   "mimetype": "text/x-python",
   "name": "python",
   "nbconvert_exporter": "python",
   "pygments_lexer": "ipython3",
   "version": "3.7.3"
  }
 },
 "nbformat": 4,
 "nbformat_minor": 2
}
